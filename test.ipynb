{
 "cells": [
  {
   "cell_type": "code",
   "execution_count": 2,
   "metadata": {},
   "outputs": [],
   "source": [
    "from ogb.graphproppred import PygGraphPropPredDataset\n",
    "from utils.dataset import OGBDataset_aug\n",
    "from torch_geometric.loader import DataLoader\n",
    "import time\n",
    "import torch\n",
    "import numpy as np\n",
    "from utils.augmentors import *"
   ]
  },
  {
   "cell_type": "code",
   "execution_count": 8,
   "metadata": {},
   "outputs": [],
   "source": [
    "aug1 = Identity()\n",
    "aug2 = RandomChoice([RWSampling(num_seeds=1000, walk_length=10),\n",
    "                           NodeDropping(pn=0.1),\n",
    "                           FeatureMasking(pf=0.1),\n",
    "                           EdgeRemoving(pe=0.1)], 1)\n",
    "\n",
    "\n",
    "dataset_1 = PygGraphPropPredDataset(name=\"ogbg-molhiv\", root=\"./data/\")\n",
    "dataset_2 = OGBDataset_aug(name=\"HIV\", root=\"./data/\", aug=\"none\")"
   ]
  },
  {
   "cell_type": "code",
   "execution_count": 9,
   "metadata": {},
   "outputs": [],
   "source": [
    "loader_1 = DataLoader(dataset_1, batch_size=512, num_workers=4)\n",
    "loader_2 = DataLoader(dataset_2, batch_size=512, num_workers=4)"
   ]
  },
  {
   "cell_type": "code",
   "execution_count": 10,
   "metadata": {},
   "outputs": [
    {
     "name": "stderr",
     "output_type": "stream",
     "text": [
      "/home/cjz/miniconda3/envs/pyg/lib/python3.8/site-packages/torch_geometric/data/collate.py:145: UserWarning: TypedStorage is deprecated. It will be removed in the future and UntypedStorage will be the only storage class. This should only matter to you if you are using storages directly.  To access UntypedStorage directly, use tensor.untyped_storage() instead of tensor.storage()\n",
      "  storage = elem.storage()._new_shared(numel)\n",
      "/home/cjz/miniconda3/envs/pyg/lib/python3.8/site-packages/torch_geometric/data/collate.py:145: UserWarning: TypedStorage is deprecated. It will be removed in the future and UntypedStorage will be the only storage class. This should only matter to you if you are using storages directly.  To access UntypedStorage directly, use tensor.untyped_storage() instead of tensor.storage()\n",
      "  storage = elem.storage()._new_shared(numel)\n",
      "/home/cjz/miniconda3/envs/pyg/lib/python3.8/site-packages/torch_geometric/data/collate.py:145: UserWarning: TypedStorage is deprecated. It will be removed in the future and UntypedStorage will be the only storage class. This should only matter to you if you are using storages directly.  To access UntypedStorage directly, use tensor.untyped_storage() instead of tensor.storage()\n",
      "  storage = elem.storage()._new_shared(numel)\n",
      "/home/cjz/miniconda3/envs/pyg/lib/python3.8/site-packages/torch_geometric/data/collate.py:145: UserWarning: TypedStorage is deprecated. It will be removed in the future and UntypedStorage will be the only storage class. This should only matter to you if you are using storages directly.  To access UntypedStorage directly, use tensor.untyped_storage() instead of tensor.storage()\n",
      "  storage = elem.storage()._new_shared(numel)\n",
      "/home/cjz/miniconda3/envs/pyg/lib/python3.8/site-packages/torch_geometric/deprecation.py:22: UserWarning: 'dropout_adj' is deprecated, use 'dropout_edge' instead\n",
      "  warnings.warn(out)\n"
     ]
    }
   ],
   "source": [
    "for i, batch in enumerate(loader_1):\n",
    "    x1, edge_index1, edge_weight1 = aug1(batch.x, batch.edge_index, batch.edge_attr)\n",
    "    x2, edge_index2, edge_weight2 = aug2(batch.x, batch.edge_index, batch.edge_attr)\n",
    "    break\n",
    "    \n",
    "    "
   ]
  },
  {
   "cell_type": "code",
   "execution_count": 13,
   "metadata": {},
   "outputs": [
    {
     "data": {
      "text/plain": [
       "(torch.Size([10551, 9]),\n",
       " torch.Size([2, 22324]),\n",
       " torch.Size([22324, 3]),\n",
       " torch.Size([10551]))"
      ]
     },
     "execution_count": 13,
     "metadata": {},
     "output_type": "execute_result"
    }
   ],
   "source": [
    "x1.shape, edge_index1.shape, edge_weight1.shape, batch.batch.shape"
   ]
  },
  {
   "cell_type": "code",
   "execution_count": 14,
   "metadata": {},
   "outputs": [
    {
     "data": {
      "text/plain": [
       "(torch.Size([10551, 9]),\n",
       " torch.Size([2, 20085]),\n",
       " torch.Size([20085, 3]),\n",
       " torch.Size([10551]))"
      ]
     },
     "execution_count": 14,
     "metadata": {},
     "output_type": "execute_result"
    }
   ],
   "source": [
    "x2.shape, edge_index2.shape, edge_weight2.shape, batch.batch.shape"
   ]
  },
  {
   "cell_type": "code",
   "execution_count": 4,
   "metadata": {},
   "outputs": [],
   "source": [
    "perm2 = torch.randperm(len(aug2))\n",
    "idx2 = perm2[:1]\n",
    "aug_select2 = Compose([aug2[id] for id in idx2])"
   ]
  },
  {
   "cell_type": "code",
   "execution_count": 15,
   "metadata": {},
   "outputs": [
    {
     "data": {
      "text/plain": [
       "Data(edge_index=[2, 40], edge_attr=[40, 3], x=[19, 9], y=[1, 1], num_nodes=19)"
      ]
     },
     "execution_count": 15,
     "metadata": {},
     "output_type": "execute_result"
    }
   ],
   "source": [
    "dataset_1[0]"
   ]
  },
  {
   "cell_type": "code",
   "execution_count": null,
   "metadata": {},
   "outputs": [],
   "source": [
    "t_0 = time.time()\n",
    "for i, batch in enumerate(loader_1):\n",
    "    data, data_aug = batch\n",
    "    print(i)\n",
    "time.time() - t_0"
   ]
  },
  {
   "cell_type": "code",
   "execution_count": null,
   "metadata": {},
   "outputs": [],
   "source": [
    "data"
   ]
  },
  {
   "cell_type": "code",
   "execution_count": null,
   "metadata": {},
   "outputs": [],
   "source": [
    "data_aug"
   ]
  },
  {
   "cell_type": "code",
   "execution_count": null,
   "metadata": {},
   "outputs": [],
   "source": [
    "t_0 = time.time()\n",
    "for batch in loader_1:\n",
    "    data = batch\n",
    "    pass\n",
    "time.time() - t_0"
   ]
  },
  {
   "cell_type": "code",
   "execution_count": null,
   "metadata": {},
   "outputs": [],
   "source": [
    "def drop_nodes(data):\n",
    "    node_num, _ = data.x.size()\n",
    "    _, edge_num = data.edge_index.size()\n",
    "    drop_num = int(node_num * 0.2)\n",
    "\n",
    "    idx_drop = np.random.choice(node_num, drop_num, replace=False)\n",
    "    idx_nondrop = [n for n in range(node_num) if not n in idx_drop]\n",
    "    idx_dict = {idx_nondrop[n]: n for n in list(range(node_num - drop_num))}\n",
    "\n",
    "    edge_index = data.edge_index.numpy()\n",
    "\n",
    "    adj = torch.zeros((node_num, node_num))\n",
    "    adj[edge_index[0], edge_index[1]] = 1\n",
    "    adj[idx_drop, :] = 0\n",
    "    adj[:, idx_drop] = 0\n",
    "    edge_index = torch.nonzero(adj).t()\n",
    "\n",
    "    data.edge_index = edge_index\n",
    "    return data"
   ]
  },
  {
   "cell_type": "code",
   "execution_count": 3,
   "metadata": {},
   "outputs": [],
   "source": [
    "from utils.loader import get_split_loader"
   ]
  },
  {
   "cell_type": "code",
   "execution_count": 4,
   "metadata": {},
   "outputs": [],
   "source": [
    "ogb_list = [\"hiv\", \"bbbp\", \"clintox\", \"tox21\", \"sider\"]\n",
    "tu_list = [\"mutag\", \"dd\", \"proteins\", \"enzymes\", \"collab\", \"imdb-binary\", \"reddit-binary\"]"
   ]
  },
  {
   "cell_type": "code",
   "execution_count": 7,
   "metadata": {},
   "outputs": [],
   "source": [
    "dataloader, train_loader, val_loader, test_loader = get_split_loader(name=\"HIV\", root=\"./data\", train_ratio=0.6, val_ratio=0.2, batch_size=512)"
   ]
  },
  {
   "cell_type": "code",
   "execution_count": 12,
   "metadata": {},
   "outputs": [
    {
     "name": "stderr",
     "output_type": "stream",
     "text": [
      "/home/cjz/miniconda3/envs/pyg/lib/python3.8/site-packages/torch_geometric/data/collate.py:145: UserWarning: TypedStorage is deprecated. It will be removed in the future and UntypedStorage will be the only storage class. This should only matter to you if you are using storages directly.  To access UntypedStorage directly, use tensor.untyped_storage() instead of tensor.storage()\n",
      "  storage = elem.storage()._new_shared(numel)\n",
      "/home/cjz/miniconda3/envs/pyg/lib/python3.8/site-packages/torch_geometric/data/collate.py:145: UserWarning: TypedStorage is deprecated. It will be removed in the future and UntypedStorage will be the only storage class. This should only matter to you if you are using storages directly.  To access UntypedStorage directly, use tensor.untyped_storage() instead of tensor.storage()\n",
      "  storage = elem.storage()._new_shared(numel)\n",
      "/home/cjz/miniconda3/envs/pyg/lib/python3.8/site-packages/torch_geometric/data/collate.py:145: UserWarning: TypedStorage is deprecated. It will be removed in the future and UntypedStorage will be the only storage class. This should only matter to you if you are using storages directly.  To access UntypedStorage directly, use tensor.untyped_storage() instead of tensor.storage()\n",
      "  storage = elem.storage()._new_shared(numel)\n",
      "/home/cjz/miniconda3/envs/pyg/lib/python3.8/site-packages/torch_geometric/data/collate.py:145: UserWarning: TypedStorage is deprecated. It will be removed in the future and UntypedStorage will be the only storage class. This should only matter to you if you are using storages directly.  To access UntypedStorage directly, use tensor.untyped_storage() instead of tensor.storage()\n",
      "  storage = elem.storage()._new_shared(numel)\n"
     ]
    },
    {
     "data": {
      "text/plain": [
       "9"
      ]
     },
     "execution_count": 12,
     "metadata": {},
     "output_type": "execute_result"
    }
   ],
   "source": [
    "temp = next(iter(dataloader))\n",
    "temp.x.shape[-1]\n",
    "temp.edge_attr.shape[-1]"
   ]
  },
  {
   "cell_type": "code",
   "execution_count": null,
   "metadata": {},
   "outputs": [],
   "source": []
  }
 ],
 "metadata": {
  "kernelspec": {
   "display_name": "pyg",
   "language": "python",
   "name": "python3"
  },
  "language_info": {
   "codemirror_mode": {
    "name": "ipython",
    "version": 3
   },
   "file_extension": ".py",
   "mimetype": "text/x-python",
   "name": "python",
   "nbconvert_exporter": "python",
   "pygments_lexer": "ipython3",
   "version": "3.8.0"
  },
  "orig_nbformat": 4,
  "vscode": {
   "interpreter": {
    "hash": "4de9927e90c1835e800a7c479339d2e513a64fcb4cbdd8fd3d817f4f0dc6a2a1"
   }
  }
 },
 "nbformat": 4,
 "nbformat_minor": 2
}
