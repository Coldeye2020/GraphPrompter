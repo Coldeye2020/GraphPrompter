{
 "cells": [
  {
   "cell_type": "code",
   "execution_count": 1,
   "metadata": {},
   "outputs": [
    {
     "name": "stderr",
     "output_type": "stream",
     "text": [
      "WARNING:root:The OGB package is out of date. Your version is 1.3.5, while the latest version is 1.3.6.\n"
     ]
    }
   ],
   "source": [
    "from ogb.graphproppred import PygGraphPropPredDataset\n",
    "from utils.dataset import OGBDataset_aug\n",
    "from torch_geometric.loader import DataLoader\n",
    "import time\n",
    "import torch\n",
    "import numpy as np\n",
    "from utils.augmentors import *"
   ]
  },
  {
   "cell_type": "code",
   "execution_count": 2,
   "metadata": {},
   "outputs": [],
   "source": [
    "aug1 = Identity()\n",
    "aug2 = RandomChoice([RWSampling(num_seeds=1000, walk_length=10),\n",
    "                           NodeDropping(pn=0.1),\n",
    "                           FeatureMasking(pf=0.1),\n",
    "                           EdgeRemoving(pe=0.1)], 1)\n",
    "\n",
    "\n",
    "dataset_1 = PygGraphPropPredDataset(name=\"ogbg-molhiv\", root=\"./data/\")\n",
    "dataset_2 = OGBDataset_aug(name=\"HIV\", root=\"./data/\", aug=\"none\")"
   ]
  },
  {
   "cell_type": "code",
   "execution_count": 9,
   "metadata": {},
   "outputs": [],
   "source": [
    "loader_1 = DataLoader(dataset_1, batch_size=512, num_workers=4)\n",
    "loader_2 = DataLoader(dataset_2, batch_size=512, num_workers=4)"
   ]
  },
  {
   "cell_type": "code",
   "execution_count": 10,
   "metadata": {},
   "outputs": [
    {
     "name": "stderr",
     "output_type": "stream",
     "text": [
      "/home/cjz/miniconda3/envs/pyg/lib/python3.8/site-packages/torch_geometric/data/collate.py:145: UserWarning: TypedStorage is deprecated. It will be removed in the future and UntypedStorage will be the only storage class. This should only matter to you if you are using storages directly.  To access UntypedStorage directly, use tensor.untyped_storage() instead of tensor.storage()\n",
      "  storage = elem.storage()._new_shared(numel)\n",
      "/home/cjz/miniconda3/envs/pyg/lib/python3.8/site-packages/torch_geometric/data/collate.py:145: UserWarning: TypedStorage is deprecated. It will be removed in the future and UntypedStorage will be the only storage class. This should only matter to you if you are using storages directly.  To access UntypedStorage directly, use tensor.untyped_storage() instead of tensor.storage()\n",
      "  storage = elem.storage()._new_shared(numel)\n",
      "/home/cjz/miniconda3/envs/pyg/lib/python3.8/site-packages/torch_geometric/data/collate.py:145: UserWarning: TypedStorage is deprecated. It will be removed in the future and UntypedStorage will be the only storage class. This should only matter to you if you are using storages directly.  To access UntypedStorage directly, use tensor.untyped_storage() instead of tensor.storage()\n",
      "  storage = elem.storage()._new_shared(numel)\n",
      "/home/cjz/miniconda3/envs/pyg/lib/python3.8/site-packages/torch_geometric/data/collate.py:145: UserWarning: TypedStorage is deprecated. It will be removed in the future and UntypedStorage will be the only storage class. This should only matter to you if you are using storages directly.  To access UntypedStorage directly, use tensor.untyped_storage() instead of tensor.storage()\n",
      "  storage = elem.storage()._new_shared(numel)\n",
      "/home/cjz/miniconda3/envs/pyg/lib/python3.8/site-packages/torch_geometric/deprecation.py:22: UserWarning: 'dropout_adj' is deprecated, use 'dropout_edge' instead\n",
      "  warnings.warn(out)\n"
     ]
    }
   ],
   "source": [
    "for i, batch in enumerate(loader_1):\n",
    "    x1, edge_index1, edge_weight1 = aug1(batch.x, batch.edge_index, batch.edge_attr)\n",
    "    x2, edge_index2, edge_weight2 = aug2(batch.x, batch.edge_index, batch.edge_attr)\n",
    "    break\n",
    "    \n",
    "    "
   ]
  },
  {
   "cell_type": "code",
   "execution_count": 13,
   "metadata": {},
   "outputs": [
    {
     "data": {
      "text/plain": [
       "(torch.Size([10551, 9]),\n",
       " torch.Size([2, 22324]),\n",
       " torch.Size([22324, 3]),\n",
       " torch.Size([10551]))"
      ]
     },
     "execution_count": 13,
     "metadata": {},
     "output_type": "execute_result"
    }
   ],
   "source": [
    "x1.shape, edge_index1.shape, edge_weight1.shape, batch.batch.shape"
   ]
  },
  {
   "cell_type": "code",
   "execution_count": 14,
   "metadata": {},
   "outputs": [
    {
     "data": {
      "text/plain": [
       "(torch.Size([10551, 9]),\n",
       " torch.Size([2, 20085]),\n",
       " torch.Size([20085, 3]),\n",
       " torch.Size([10551]))"
      ]
     },
     "execution_count": 14,
     "metadata": {},
     "output_type": "execute_result"
    }
   ],
   "source": [
    "x2.shape, edge_index2.shape, edge_weight2.shape, batch.batch.shape"
   ]
  },
  {
   "cell_type": "code",
   "execution_count": 4,
   "metadata": {},
   "outputs": [],
   "source": [
    "perm2 = torch.randperm(len(aug2))\n",
    "idx2 = perm2[:1]\n",
    "aug_select2 = Compose([aug2[id] for id in idx2])"
   ]
  },
  {
   "cell_type": "code",
   "execution_count": 15,
   "metadata": {},
   "outputs": [
    {
     "data": {
      "text/plain": [
       "Data(edge_index=[2, 40], edge_attr=[40, 3], x=[19, 9], y=[1, 1], num_nodes=19)"
      ]
     },
     "execution_count": 15,
     "metadata": {},
     "output_type": "execute_result"
    }
   ],
   "source": [
    "dataset_1[0]"
   ]
  },
  {
   "cell_type": "code",
   "execution_count": null,
   "metadata": {},
   "outputs": [],
   "source": [
    "t_0 = time.time()\n",
    "for i, batch in enumerate(loader_1):\n",
    "    data, data_aug = batch\n",
    "    print(i)\n",
    "time.time() - t_0"
   ]
  },
  {
   "cell_type": "code",
   "execution_count": null,
   "metadata": {},
   "outputs": [],
   "source": [
    "data"
   ]
  },
  {
   "cell_type": "code",
   "execution_count": null,
   "metadata": {},
   "outputs": [],
   "source": [
    "data_aug"
   ]
  },
  {
   "cell_type": "code",
   "execution_count": null,
   "metadata": {},
   "outputs": [],
   "source": [
    "t_0 = time.time()\n",
    "for batch in loader_1:\n",
    "    data = batch\n",
    "    pass\n",
    "time.time() - t_0"
   ]
  },
  {
   "cell_type": "code",
   "execution_count": null,
   "metadata": {},
   "outputs": [],
   "source": [
    "def drop_nodes(data):\n",
    "    node_num, _ = data.x.size()\n",
    "    _, edge_num = data.edge_index.size()\n",
    "    drop_num = int(node_num * 0.2)\n",
    "\n",
    "    idx_drop = np.random.choice(node_num, drop_num, replace=False)\n",
    "    idx_nondrop = [n for n in range(node_num) if not n in idx_drop]\n",
    "    idx_dict = {idx_nondrop[n]: n for n in list(range(node_num - drop_num))}\n",
    "\n",
    "    edge_index = data.edge_index.numpy()\n",
    "\n",
    "    adj = torch.zeros((node_num, node_num))\n",
    "    adj[edge_index[0], edge_index[1]] = 1\n",
    "    adj[idx_drop, :] = 0\n",
    "    adj[:, idx_drop] = 0\n",
    "    edge_index = torch.nonzero(adj).t()\n",
    "\n",
    "    data.edge_index = edge_index\n",
    "    return data"
   ]
  },
  {
   "cell_type": "code",
   "execution_count": 3,
   "metadata": {},
   "outputs": [],
   "source": [
    "from utils.loader import get_split_loader"
   ]
  },
  {
   "cell_type": "code",
   "execution_count": 4,
   "metadata": {},
   "outputs": [],
   "source": [
    "ogb_list = [\"hiv\", \"bbbp\", \"clintox\", \"tox21\", \"sider\"]\n",
    "tu_list = [\"mutag\", \"dd\", \"proteins\", \"enzymes\", \"collab\", \"imdb-binary\", \"reddit-binary\"]"
   ]
  },
  {
   "cell_type": "code",
   "execution_count": 7,
   "metadata": {},
   "outputs": [],
   "source": [
    "dataloader, train_loader, val_loader, test_loader = get_split_loader(name=\"HIV\", root=\"./data\", train_ratio=0.6, val_ratio=0.2, batch_size=512)"
   ]
  },
  {
   "cell_type": "code",
   "execution_count": 12,
   "metadata": {},
   "outputs": [
    {
     "name": "stderr",
     "output_type": "stream",
     "text": [
      "/home/cjz/miniconda3/envs/pyg/lib/python3.8/site-packages/torch_geometric/data/collate.py:145: UserWarning: TypedStorage is deprecated. It will be removed in the future and UntypedStorage will be the only storage class. This should only matter to you if you are using storages directly.  To access UntypedStorage directly, use tensor.untyped_storage() instead of tensor.storage()\n",
      "  storage = elem.storage()._new_shared(numel)\n",
      "/home/cjz/miniconda3/envs/pyg/lib/python3.8/site-packages/torch_geometric/data/collate.py:145: UserWarning: TypedStorage is deprecated. It will be removed in the future and UntypedStorage will be the only storage class. This should only matter to you if you are using storages directly.  To access UntypedStorage directly, use tensor.untyped_storage() instead of tensor.storage()\n",
      "  storage = elem.storage()._new_shared(numel)\n",
      "/home/cjz/miniconda3/envs/pyg/lib/python3.8/site-packages/torch_geometric/data/collate.py:145: UserWarning: TypedStorage is deprecated. It will be removed in the future and UntypedStorage will be the only storage class. This should only matter to you if you are using storages directly.  To access UntypedStorage directly, use tensor.untyped_storage() instead of tensor.storage()\n",
      "  storage = elem.storage()._new_shared(numel)\n",
      "/home/cjz/miniconda3/envs/pyg/lib/python3.8/site-packages/torch_geometric/data/collate.py:145: UserWarning: TypedStorage is deprecated. It will be removed in the future and UntypedStorage will be the only storage class. This should only matter to you if you are using storages directly.  To access UntypedStorage directly, use tensor.untyped_storage() instead of tensor.storage()\n",
      "  storage = elem.storage()._new_shared(numel)\n"
     ]
    },
    {
     "data": {
      "text/plain": [
       "9"
      ]
     },
     "execution_count": 12,
     "metadata": {},
     "output_type": "execute_result"
    }
   ],
   "source": [
    "temp = next(iter(dataloader))\n",
    "temp.x.shape[-1]\n",
    "temp.edge_attr.shape[-1]"
   ]
  },
  {
   "cell_type": "code",
   "execution_count": 53,
   "metadata": {},
   "outputs": [],
   "source": [
    "val_y = torch.load(\"val_y.pt\")\n",
    "test_y = torch.load(\"test_y.pt\")\n",
    "val_pred = torch.load(\"val_pred.pt\")\n",
    "test_pred = torch.load(\"test_pred.pt\")"
   ]
  },
  {
   "cell_type": "code",
   "execution_count": 54,
   "metadata": {},
   "outputs": [
    {
     "data": {
      "text/plain": [
       "(array([  51,  111,  140,  185,  284,  293,  297,  319,  320,  348,  449,\n",
       "         473,  486,  575,  954, 1333, 1413, 1614, 1802, 1850, 1885, 1919,\n",
       "        2007, 2008, 2009, 2053, 2105, 2216, 2244, 2245, 2251, 2391, 2406,\n",
       "        2456, 2457, 2458, 2459, 2486, 2505, 2508, 2627, 2662, 2670, 2673,\n",
       "        2690, 2693, 2747, 2758, 2779, 2780, 2781, 2782, 2783, 2833, 2890,\n",
       "        2909, 2960, 2985, 2986, 2988, 3004, 3028, 3061, 3084, 3169, 3170,\n",
       "        3176, 3177, 3223, 3317, 3353, 3416, 3461, 3662, 3755, 3798, 3799,\n",
       "        3812, 3867, 3873, 4027]),\n",
       " array([0, 0, 0, 0, 0, 0, 0, 0, 0, 0, 0, 0, 0, 0, 0, 0, 0, 0, 0, 0, 0, 0,\n",
       "        0, 0, 0, 0, 0, 0, 0, 0, 0, 0, 0, 0, 0, 0, 0, 0, 0, 0, 0, 0, 0, 0,\n",
       "        0, 0, 0, 0, 0, 0, 0, 0, 0, 0, 0, 0, 0, 0, 0, 0, 0, 0, 0, 0, 0, 0,\n",
       "        0, 0, 0, 0, 0, 0, 0, 0, 0, 0, 0, 0, 0, 0, 0]))"
      ]
     },
     "execution_count": 54,
     "metadata": {},
     "output_type": "execute_result"
    }
   ],
   "source": [
    "val_y.nonzero()"
   ]
  },
  {
   "cell_type": "code",
   "execution_count": 57,
   "metadata": {},
   "outputs": [
    {
     "data": {
      "text/plain": [
       "-0.6528204"
      ]
     },
     "execution_count": 57,
     "metadata": {},
     "output_type": "execute_result"
    }
   ],
   "source": [
    "val_pred[:,1:2].max()"
   ]
  },
  {
   "cell_type": "code",
   "execution_count": 36,
   "metadata": {},
   "outputs": [],
   "source": [
    "val_y = torch.load(\"save_data/val_y.pt\").cpu().numpy()\n",
    "test_y = torch.load(\"save_data/test_y.pt\").cpu().numpy()\n",
    "val_pred = torch.load(\"save_data/val_pred.pt\").cpu().numpy()\n",
    "test_pred = torch.load(\"save_data/test_pred.pt\").cpu().numpy()"
   ]
  },
  {
   "cell_type": "code",
   "execution_count": 37,
   "metadata": {},
   "outputs": [
    {
     "data": {
      "text/plain": [
       "(array([  51,  111,  140,  185,  284,  293,  297,  319,  320,  348,  449,\n",
       "         473,  486,  575,  954, 1333, 1413, 1614, 1802, 1850, 1885, 1919,\n",
       "        2007, 2008, 2009, 2053, 2105, 2216, 2244, 2245, 2251, 2391, 2406,\n",
       "        2456, 2457, 2458, 2459, 2486, 2505, 2508, 2627, 2662, 2670, 2673,\n",
       "        2690, 2693, 2747, 2758, 2779, 2780, 2781, 2782, 2783, 2833, 2890,\n",
       "        2909, 2960, 2985, 2986, 2988, 3004, 3028, 3061, 3084, 3169, 3170,\n",
       "        3176, 3177, 3223, 3317, 3353, 3416, 3461, 3662, 3755, 3798, 3799,\n",
       "        3812, 3867, 3873, 4027]),\n",
       " array([0, 0, 0, 0, 0, 0, 0, 0, 0, 0, 0, 0, 0, 0, 0, 0, 0, 0, 0, 0, 0, 0,\n",
       "        0, 0, 0, 0, 0, 0, 0, 0, 0, 0, 0, 0, 0, 0, 0, 0, 0, 0, 0, 0, 0, 0,\n",
       "        0, 0, 0, 0, 0, 0, 0, 0, 0, 0, 0, 0, 0, 0, 0, 0, 0, 0, 0, 0, 0, 0,\n",
       "        0, 0, 0, 0, 0, 0, 0, 0, 0, 0, 0, 0, 0, 0, 0]))"
      ]
     },
     "execution_count": 37,
     "metadata": {},
     "output_type": "execute_result"
    }
   ],
   "source": [
    "val_y.nonzero()"
   ]
  },
  {
   "cell_type": "code",
   "execution_count": 40,
   "metadata": {},
   "outputs": [
    {
     "data": {
      "text/plain": [
       "14"
      ]
     },
     "execution_count": 40,
     "metadata": {},
     "output_type": "execute_result"
    }
   ],
   "source": [
    "(val_pred > 0).sum()"
   ]
  },
  {
   "cell_type": "code",
   "execution_count": 43,
   "metadata": {},
   "outputs": [
    {
     "data": {
      "text/plain": [
       "0.7549113266705859"
      ]
     },
     "execution_count": 43,
     "metadata": {},
     "output_type": "execute_result"
    }
   ],
   "source": [
    "from ogb.graphproppred import Evaluator\n",
    "evaluator = Evaluator(name='ogbg-molhiv')\n",
    "epoch_test_ROC = evaluator.eval({'y_pred': val_pred,\n",
    "                                'y_true': val_y})['rocauc']\n",
    "epoch_test_ROC"
   ]
  },
  {
   "cell_type": "code",
   "execution_count": 50,
   "metadata": {},
   "outputs": [
    {
     "name": "stderr",
     "output_type": "stream",
     "text": [
      "/tmp/ipykernel_42539/777834420.py:1: UserWarning: Implicit dimension choice for softmax has been deprecated. Change the call to include dim=X as an argument.\n",
      "  torch.nn.functional.softmax(torch.from_numpy(val_pred))\n"
     ]
    },
    {
     "data": {
      "text/plain": [
       "tensor([[0.8339, 0.1661],\n",
       "        [0.8339, 0.1661],\n",
       "        [0.8339, 0.1661],\n",
       "        ...,\n",
       "        [0.8339, 0.1661],\n",
       "        [0.8339, 0.1661],\n",
       "        [0.8339, 0.1661]])"
      ]
     },
     "execution_count": 50,
     "metadata": {},
     "output_type": "execute_result"
    }
   ],
   "source": [
    "torch.nn.functional.softmax(torch.from_numpy(val_pred))"
   ]
  },
  {
   "cell_type": "code",
   "execution_count": 58,
   "metadata": {},
   "outputs": [
    {
     "data": {
      "text/plain": [
       "(4113, 2)"
      ]
     },
     "execution_count": 58,
     "metadata": {},
     "output_type": "execute_result"
    }
   ],
   "source": [
    "val_pred.shape"
   ]
  },
  {
   "cell_type": "code",
   "execution_count": 60,
   "metadata": {},
   "outputs": [
    {
     "data": {
      "text/plain": [
       "81"
      ]
     },
     "execution_count": 60,
     "metadata": {},
     "output_type": "execute_result"
    }
   ],
   "source": [
    "val_y[:,0].sum()"
   ]
  },
  {
   "cell_type": "code",
   "execution_count": 64,
   "metadata": {},
   "outputs": [
    {
     "data": {
      "text/plain": [
       "tensor(0.2134)"
      ]
     },
     "execution_count": 64,
     "metadata": {},
     "output_type": "execute_result"
    }
   ],
   "source": [
    "torch.nn.functional.cross_entropy(torch.from_numpy(val_pred), torch.from_numpy(val_y[:,0]))"
   ]
  },
  {
   "cell_type": "code",
   "execution_count": 5,
   "metadata": {},
   "outputs": [
    {
     "data": {
      "text/plain": [
       "32901"
      ]
     },
     "execution_count": 5,
     "metadata": {},
     "output_type": "execute_result"
    }
   ],
   "source": [
    "len(dataset_1.get_idx_split()['train'])"
   ]
  },
  {
   "cell_type": "code",
   "execution_count": null,
   "metadata": {},
   "outputs": [],
   "source": [
    "32901\n"
   ]
  }
 ],
 "metadata": {
  "kernelspec": {
   "display_name": "pyg",
   "language": "python",
   "name": "python3"
  },
  "language_info": {
   "codemirror_mode": {
    "name": "ipython",
    "version": 3
   },
   "file_extension": ".py",
   "mimetype": "text/x-python",
   "name": "python",
   "nbconvert_exporter": "python",
   "pygments_lexer": "ipython3",
   "version": "3.8.0"
  },
  "orig_nbformat": 4,
  "vscode": {
   "interpreter": {
    "hash": "4de9927e90c1835e800a7c479339d2e513a64fcb4cbdd8fd3d817f4f0dc6a2a1"
   }
  }
 },
 "nbformat": 4,
 "nbformat_minor": 2
}
