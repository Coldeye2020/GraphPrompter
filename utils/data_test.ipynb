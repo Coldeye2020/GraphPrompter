{
 "cells": [
  {
   "cell_type": "markdown",
   "metadata": {},
   "source": [
    "# OGB"
   ]
  },
  {
   "cell_type": "code",
   "execution_count": 1,
   "metadata": {},
   "outputs": [
    {
     "name": "stderr",
     "output_type": "stream",
     "text": [
      "/Users/coldeye/anaconda3/envs/pyg/lib/python3.9/site-packages/tqdm/auto.py:21: TqdmWarning: IProgress not found. Please update jupyter and ipywidgets. See https://ipywidgets.readthedocs.io/en/stable/user_install.html\n",
      "  from .autonotebook import tqdm as notebook_tqdm\n"
     ]
    }
   ],
   "source": [
    "from ogb.graphproppred import PygGraphPropPredDataset\n",
    "from torch_geometric.loader import DataLoader\n",
    "from torch_geometric.data import InMemoryDataset\n",
    "from itertools import repeat\n",
    "from copy import deepcopy, copy\n",
    "from torch_geometric.data.separate import separate\n",
    "\n",
    "\n",
    "\n",
    "ogb_list = [\"hiv\", \"bbbp\", \"clintox\", \"tox21\", \"sider\"]\n",
    "i = 0\n",
    "# Download and process data at './dataset/ogbg_molhiv/'\n",
    "dataset = PygGraphPropPredDataset(name = \"ogbg-mol\" + ogb_list[i], root = '../data/')\n",
    "\n",
    " \n",
    "split_idx = dataset.get_idx_split() \n",
    "train_loader = DataLoader(dataset[split_idx[\"train\"]], batch_size=32, shuffle=True)\n",
    "valid_loader = DataLoader(dataset[split_idx[\"valid\"]], batch_size=32, shuffle=False)\n",
    "test_loader = DataLoader(dataset[split_idx[\"test\"]], batch_size=32, shuffle=False)"
   ]
  },
  {
   "cell_type": "code",
   "execution_count": 2,
   "metadata": {},
   "outputs": [
    {
     "data": {
      "text/plain": [
       "Data(edge_index=[2, 48], edge_attr=[48, 3], x=[21, 9], y=[1, 1], num_nodes=21)"
      ]
     },
     "execution_count": 2,
     "metadata": {},
     "output_type": "execute_result"
    }
   ],
   "source": [
    "from aug import *\n",
    "dataset[2]"
   ]
  },
  {
   "cell_type": "code",
   "execution_count": 3,
   "metadata": {},
   "outputs": [],
   "source": [
    "class OGBDataset_aug(PygGraphPropPredDataset):\n",
    "    def __init__(self, name, root, aug=None, transform=None, pre_transform=None):\n",
    "        super(OGBDataset_aug, self).__init__(name, root, transform, pre_transform)\n",
    "        self.aug = aug\n",
    "\n",
    "    def get(self, idx: int):\n",
    "        data = super(PygGraphPropPredDataset, self).get(idx)\n",
    "\n",
    "        node_num = data.edge_index.max()\n",
    "        sl = torch.tensor([[n, n] for n in range(node_num)]).t()\n",
    "        data.edge_index = torch.cat((data.edge_index, sl), dim=1)\n",
    "\n",
    "        if self.aug == 'dnodes':\n",
    "            data_aug = drop_nodes(deepcopy(data))\n",
    "        elif self.aug == 'pedges':\n",
    "            data_aug = permute_edges(deepcopy(data))\n",
    "        elif self.aug == 'subgraph':\n",
    "            data_aug = subgraph(deepcopy(data))\n",
    "        elif self.aug == 'mask_nodes':\n",
    "            data_aug = mask_nodes(deepcopy(data))\n",
    "        elif self.aug == 'none':\n",
    "            data_aug = deepcopy(data)\n",
    "            data_aug.x = torch.ones((data.edge_index.max() + 1, 1))\n",
    "        elif self.aug == 'random4':\n",
    "            n = np.random.randint(4)\n",
    "            if n == 0:\n",
    "                data_aug = drop_nodes(deepcopy(data))\n",
    "            elif n == 1:\n",
    "                data_aug = permute_edges(deepcopy(data))\n",
    "            elif n == 2:\n",
    "                data_aug = subgraph(deepcopy(data))\n",
    "            elif n == 3:\n",
    "                data_aug = mask_nodes(deepcopy(data))\n",
    "            else:\n",
    "                print('sample error')\n",
    "                assert False\n",
    "        else:\n",
    "            print('augmentation error')\n",
    "            assert False\n",
    "\n",
    "        return data, data_aug"
   ]
  },
  {
   "cell_type": "code",
   "execution_count": 4,
   "metadata": {},
   "outputs": [],
   "source": [
    "from torch_geometric.datasets import TUDataset\n",
    "\n",
    "class TUDataset_aug(TUDataset):\n",
    "    def __init__(self, name, root, aug=\"none\", transform=None, pre_transform=None):\n",
    "        super(TUDataset_aug, self).__init__(name=name, root=root, transform=transform, pre_transform=pre_transform)\n",
    "        self.aug = aug\n",
    "\n",
    "    def get(self, idx: int):\n",
    "        data = super(TUDataset_aug, self).get(idx)\n",
    "\n",
    "        node_num = data.edge_index.max()\n",
    "        sl = torch.tensor([[n, n] for n in range(node_num)]).t()\n",
    "        data.edge_index = torch.cat((data.edge_index, sl), dim=1)\n",
    "\n",
    "        if self.aug == 'dnodes':\n",
    "            data_aug = drop_nodes(deepcopy(data))\n",
    "        elif self.aug == 'pedges':\n",
    "            data_aug = permute_edges(deepcopy(data))\n",
    "        elif self.aug == 'subgraph':\n",
    "            data_aug = subgraph(deepcopy(data))\n",
    "        elif self.aug == 'mask_nodes':\n",
    "            data_aug = mask_nodes(deepcopy(data))\n",
    "        elif self.aug == 'none':\n",
    "            data_aug = deepcopy(data)\n",
    "            data_aug.x = torch.ones((data.edge_index.max() + 1, 1))\n",
    "        elif self.aug == 'random4':\n",
    "            n = np.random.randint(4)\n",
    "            if n == 0:\n",
    "                data_aug = drop_nodes(deepcopy(data))\n",
    "            elif n == 1:\n",
    "                data_aug = permute_edges(deepcopy(data))\n",
    "            elif n == 2:\n",
    "                data_aug = subgraph(deepcopy(data))\n",
    "            elif n == 3:\n",
    "                data_aug = mask_nodes(deepcopy(data))\n",
    "            else:\n",
    "                print('sample error')\n",
    "                assert False\n",
    "        else:\n",
    "            print('augmentation error')\n",
    "            assert False\n",
    "\n",
    "        return data, data_aug"
   ]
  },
  {
   "cell_type": "code",
   "execution_count": null,
   "metadata": {},
   "outputs": [],
   "source": []
  }
 ],
 "metadata": {
  "kernelspec": {
   "display_name": "pyg",
   "language": "python",
   "name": "python3"
  },
  "language_info": {
   "codemirror_mode": {
    "name": "ipython",
    "version": 3
   },
   "file_extension": ".py",
   "mimetype": "text/x-python",
   "name": "python",
   "nbconvert_exporter": "python",
   "pygments_lexer": "ipython3",
   "version": "3.9.13"
  },
  "orig_nbformat": 4
 },
 "nbformat": 4,
 "nbformat_minor": 2
}
